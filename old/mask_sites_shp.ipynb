{
 "cells": [
  {
   "cell_type": "code",
   "execution_count": 1,
   "id": "a000363e-8606-45e0-8295-3dc3898d2238",
   "metadata": {},
   "outputs": [
    {
     "ename": "NameError",
     "evalue": "name 'water_points' is not defined",
     "output_type": "error",
     "traceback": [
      "\u001b[0;31m---------------------------------------------------------------------------\u001b[0m",
      "\u001b[0;31mNameError\u001b[0m                                 Traceback (most recent call last)",
      "Cell \u001b[0;32mIn[1], line 1\u001b[0m\n\u001b[0;32m----> 1\u001b[0m points_notin_water \u001b[38;5;241m=\u001b[39m \u001b[43mwater_points\u001b[49m[\u001b[38;5;241m~\u001b[39mwater_points[\u001b[38;5;124m'\u001b[39m\u001b[38;5;124misin_water\u001b[39m\u001b[38;5;124m'\u001b[39m]]\u001b[38;5;241m.\u001b[39mcopy()\n\u001b[1;32m      2\u001b[0m \u001b[38;5;66;03m#print(\"Points not in water geometry type:\", points_notin_water.geometry.type.unique())\u001b[39;00m\n\u001b[1;32m      3\u001b[0m water_union \u001b[38;5;241m=\u001b[39m water_shp\u001b[38;5;241m.\u001b[39munary_union\n",
      "\u001b[0;31mNameError\u001b[0m: name 'water_points' is not defined"
     ]
    }
   ],
   "source": [
    "\n",
    "points_notin_water = water_points[~water_points['isin_water']].copy()\n",
    "#print(\"Points not in water geometry type:\", points_notin_water.geometry.type.unique())\n",
    "water_union = water_shp.unary_union\n",
    "\n",
    "# Function to find nearest point on water body\n",
    "def get_nearest_water_point(point, water_geo):\n",
    "    nearest_geo = nearest_points(point, water_geo)[1]\n",
    "    distance = point.distance(nearest_geo)\n",
    "    return nearest_geo, distance\n",
    "\n",
    "\n",
    "nearest_coords = []\n",
    "distances = []\n",
    "for idx, row in points_notin_water.iterrows():\n",
    "    point_geo = row.geometry\n",
    "    nearest_point, distance = get_nearest_water_point(point_geo, water_union)\n",
    "    nearest_coords.append((nearest_point.x, nearest_point.y))\n",
    "    distances.append(distance)\n",
    "\n",
    "# Add the results to the GeoDataFrame\n",
    "points_notin_water['nearest_coord'] = nearest_coords\n",
    "points_notin_water['distance'] = distances\n",
    "\n",
    "columns_to_keep = ['site_no', 'station_nm', 'dec_lat_va', 'dec_long_va', \n",
    "                   'geometry', 'nearest_coord', 'distance', 'isin_water']\n",
    "points_notin_water = points_notin_water[columns_to_keep].copy()\n",
    "print(points_notin_water.head())\n",
    "\n",
    "water_shp = gpd.read_file('../lake_shape/updatedValidLakes.shp')\n",
    "water_shp = water_shp.to_crs(epsg=4326)\n",
    "\n",
    "sites_df = pd.read_csv('data/siteno_matcher.csv') \n",
    "sites_geo = [Point(xy) for xy in zip(sites_df['dec_long_va'], sites_df['dec_lat_va'])]\n",
    "sites_gdf = gpd.GeoDataFrame(sites_df, geometry=sites_geo)\n",
    "sites_gdf.set_crs(epsg=4326, inplace=True)\n",
    "\n",
    "print(water_shp.crs, sites_gdf.crs)\n",
    "\n",
    "water_points = gpd.sjoin(sites_gdf, water_shp, how='left', predicate='within')\n",
    "water_points['isin_water'] = water_points['index_right'].notnull()\n",
    "#print(water_points[['site_no', 'is_in_water']])\n",
    "#water_points.tocsv('data/water_points.csv')\n",
    "\n",
    "import folium\n",
    "\n",
    "# Initialize the map at a central location\n",
    "m = folium.Map(location=[37.5, -122], zoom_start=9, tiles='cartodbpositron')\n",
    "\n",
    "# Add points to the map\n",
    "for idx, row in points_notin_water.iterrows():\n",
    "    folium.CircleMarker(\n",
    "        location=[row['dec_lat_va'], row['dec_long_va']],\n",
    "        radius=3,\n",
    "        color='red',\n",
    "        fill=True,\n",
    "        fill_color='red',\n",
    "        popup=f\"Site: {row['site_no']}, Dist: {row['distance']:.2f} km\"\n",
    "    ).add_to(m)\n",
    "\n",
    "    # Add lines to the nearest water point\n",
    "    folium.PolyLine(\n",
    "        locations=[\n",
    "            [row['dec_lat_va'], row['dec_long_va']],\n",
    "            [row['nearest_coord'][1], row['nearest_coord'][0]]  # Assuming these are latitude and longitude\n",
    "        ],\n",
    "        color='blue'\n",
    "    ).add_to(m)\n",
    "\n",
    "# Show the map\n",
    "m\n",
    "m.save('site_map.html')"
   ]
  },
  {
   "cell_type": "code",
   "execution_count": null,
   "id": "887d33e2-ecc9-45b9-934f-ba7fbff08b41",
   "metadata": {},
   "outputs": [],
   "source": []
  },
  {
   "cell_type": "code",
   "execution_count": null,
   "id": "07c6b4fc-f873-4006-852e-730e3e947ef4",
   "metadata": {},
   "outputs": [],
   "source": []
  }
 ],
 "metadata": {
  "kernelspec": {
   "display_name": "Python 3 (ipykernel)",
   "language": "python",
   "name": "python3"
  },
  "language_info": {
   "codemirror_mode": {
    "name": "ipython",
    "version": 3
   },
   "file_extension": ".py",
   "mimetype": "text/x-python",
   "name": "python",
   "nbconvert_exporter": "python",
   "pygments_lexer": "ipython3",
   "version": "3.10.14"
  }
 },
 "nbformat": 4,
 "nbformat_minor": 5
}
