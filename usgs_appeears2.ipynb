{
 "cells": [
  {
   "cell_type": "code",
   "execution_count": 2,
   "id": "124bd969-e020-4d15-ba54-fb1cda330d4c",
   "metadata": {},
   "outputs": [],
   "source": [
    "\n",
    "import dataretrieval.nwis as nwis\n",
    "import geopandas as gpd\n",
    "from shapely.geometry import Point, box, Polygon, MultiPolygon\n",
    "import requests\n",
    "import pandas as pd\n",
    "import datetime as dt\n",
    "import earthaccess\n",
    "from tqdm import tqdm\n",
    "from shapely.ops import nearest_points\n",
    "import sys\n",
    "sys.path.append('modules/')\n",
    "from retrieval_utils_appeearsTest import get_param_sites, get_scenes_results, get_scenes_temp\n",
    "import matplotlib.pyplot as plt\n",
    "import matplotlib.colors as mcolors\n",
    "import matplotlib.cm as cm\n",
    "import numpy as np\n",
    "import geopy\n",
    "import ast\n",
    "from sklearn.preprocessing import StandardScaler"
   ]
  },
  {
   "cell_type": "code",
   "execution_count": 3,
   "id": "917f2e8a-ac76-437a-9413-e37c8e784814",
   "metadata": {},
   "outputs": [
    {
     "name": "stderr",
     "output_type": "stream",
     "text": [
      "Finding sites: 100%|████████████████████████████| 56/56 [01:38<00:00,  1.77s/it]"
     ]
    },
    {
     "name": "stdout",
     "output_type": "stream",
     "text": [
      "90\n"
     ]
    },
    {
     "name": "stderr",
     "output_type": "stream",
     "text": [
      "\n"
     ]
    }
   ],
   "source": [
    "# set up search and call function\n",
    "param_codes = ['32315'] # chla fluorescence\n",
    "param_codes_str = ','.join(param_codes) \n",
    "#state_codes = ['06'] # california\n",
    "state_codes = [f\"{i:02d}\" for i in range(1, 57)]\n",
    "site_types = ['LK', 'ES'] # lakes, estruaries\n",
    "site_list = get_param_sites(param_codes_str, state_codes, site_types)\n",
    "\n",
    "# drop missing coords\n",
    "site_list['dec_lat_va'] = pd.to_numeric(site_list['dec_lat_va'], errors='coerce')\n",
    "site_list['dec_long_va'] = pd.to_numeric(site_list['dec_long_va'], errors='coerce')\n",
    "site_list_clean = site_list.dropna(subset=['dec_lat_va', 'dec_long_va'])\n",
    "\n",
    "# drop bottom measurements\n",
    "site_list_surf = site_list_clean[~site_list_clean['station_nm'].str.contains('bottom|deep', case=False, na=False)]\n",
    "site_list_surf['site_no'] = site_list_surf['site_no'].astype(str)\n",
    "\n",
    "# convert headers to appeears format, save to csv\n",
    "sites_df = pd.DataFrame()\n",
    "sites_df['ID'] = site_list_surf['site_no'] \n",
    "sites_df['Category'] = site_list_surf['station_nm']\n",
    "sites_df['Latitude'] = site_list_surf['dec_lat_va']\n",
    "sites_df['Longitude'] = site_list_surf['dec_long_va']\n",
    "sites_df['ID'] = sites_df['ID'].astype(str)\n",
    "sites_df.to_csv(f\"data/{param_codes[0]}_sites.csv\", index=False)\n"
   ]
  },
  {
   "cell_type": "code",
   "execution_count": 4,
   "id": "a4669247-0c08-4007-a3d4-29ec5e1cd8f1",
   "metadata": {},
   "outputs": [
    {
     "name": "stdout",
     "output_type": "stream",
     "text": [
      "                   datetime                       station_nm        lat  \\\n",
      "0  2023-08-12T22:32:34.000Z  BLUE RIVER LAKE NEAR BLUE RIVER  44.173194   \n",
      "1  2024-03-26T23:22:56.000Z  BLUE RIVER LAKE NEAR BLUE RIVER  44.173194   \n",
      "2  2024-03-30T21:47:23.000Z  BLUE RIVER LAKE NEAR BLUE RIVER  44.173194   \n",
      "3  2024-04-21T18:32:59.000Z  BLUE RIVER LAKE NEAR BLUE RIVER  44.173194   \n",
      "4  2024-08-01T20:41:02.000Z  BLUE RIVER LAKE NEAR BLUE RIVER  44.173194   \n",
      "\n",
      "          lon                                            spectra  \\\n",
      "0 -122.324222  [{'Band': 'B001', 'wavelength': 381.006, 'refl...   \n",
      "1 -122.324222  [{'Band': 'B001', 'wavelength': 381.006, 'refl...   \n",
      "2 -122.324222  [{'Band': 'B001', 'wavelength': 381.006, 'refl...   \n",
      "3 -122.324222  [{'Band': 'B001', 'wavelength': 381.006, 'refl...   \n",
      "4 -122.324222  [{'Band': 'B001', 'wavelength': 381.006, 'refl...   \n",
      "\n",
      "           site_no  \n",
      "0  441022122193200  \n",
      "1  441022122193200  \n",
      "2  441022122193200  \n",
      "3  441022122193200  \n",
      "4  441022122193200  \n"
     ]
    }
   ],
   "source": [
    "# import data\n",
    "param_codes = ['32316']\n",
    "spec_df = pd.read_csv(f\"data/{param_codes[0]}_spectra.csv\") \n",
    "site_list = pd.read_csv(f\"data/{param_codes[0]}_sites.csv\", dtype={'ID': str})\n",
    "site_list.rename(columns={'ID': 'site_no', 'Category': 'station_nm'}, inplace=True)\n",
    "\n",
    "# trim station names for matching\n",
    "def trim_station_nm(name):\n",
    "    name = name.replace('(', '').replace(')', '')\n",
    "    return name.split(',')[0].strip().lower()\n",
    "site_list['station_nm_trimmed'] = site_list['station_nm'].apply(trim_station_nm)\n",
    "\n",
    "# collapse spectral data into list of dicts\n",
    "grouped = spec_df.groupby(['Category', 'Date'])\n",
    "scenes = []\n",
    "for (category, date), group in grouped:\n",
    "    spectral_data = group[['Band', 'wavelength', 'reflectance']].to_dict('records')\n",
    "    scene = {\n",
    "        'datetime': pd.to_datetime(date).strftime('%Y-%m-%dT%H:%M:%S.000Z'),\n",
    "        'station_nm': category,\n",
    "        'lat': group['Latitude'].iloc[0],\n",
    "        'lon': group['Longitude'].iloc[0],\n",
    "        'spectra': spectral_data\n",
    "    }\n",
    "    scenes.append(scene)\n",
    "scenes_df = pd.DataFrame(scenes)\n",
    "\n",
    "# merge datasets to get site no column\n",
    "scenes_df['station_nm_trimmed'] = scenes_df['station_nm'].apply(trim_station_nm)\n",
    "merged_df = scenes_df.merge(site_list[['station_nm_trimmed', 'site_no']], on='station_nm_trimmed', how='left')\n",
    "merged_df.drop(columns=['station_nm_trimmed'], inplace=True)\n",
    "\n",
    "# check for any NaN values in site_no\n",
    "if merged_df['site_no'].isna().any():\n",
    "    missing_station_nms = merged_df[merged_df['site_no'].isna()]['station_nm'].unique()\n",
    "    print(\"\\nMissing site_no for station names:\", missing_station_nms)\n",
    "\n",
    "print(merged_df.head())\n"
   ]
  },
  {
   "cell_type": "code",
   "execution_count": 5,
   "id": "067419d7-3203-421b-8582-88920d47a147",
   "metadata": {},
   "outputs": [
    {
     "name": "stdout",
     "output_type": "stream",
     "text": [
      "                   datetime                       station_nm        lat  \\\n",
      "0  2023-08-12T22:32:34.000Z  BLUE RIVER LAKE NEAR BLUE RIVER  44.173194   \n",
      "1  2024-03-26T23:22:56.000Z  BLUE RIVER LAKE NEAR BLUE RIVER  44.173194   \n",
      "2  2024-03-30T21:47:23.000Z  BLUE RIVER LAKE NEAR BLUE RIVER  44.173194   \n",
      "3  2024-04-21T18:32:59.000Z  BLUE RIVER LAKE NEAR BLUE RIVER  44.173194   \n",
      "4  2024-08-01T20:41:02.000Z  BLUE RIVER LAKE NEAR BLUE RIVER  44.173194   \n",
      "\n",
      "          lon                                            spectra  \\\n",
      "0 -122.324222  [{'Band': 'B001', 'wavelength': 381.006, 'refl...   \n",
      "1 -122.324222  [{'Band': 'B001', 'wavelength': 381.006, 'refl...   \n",
      "2 -122.324222  [{'Band': 'B001', 'wavelength': 381.006, 'refl...   \n",
      "3 -122.324222  [{'Band': 'B001', 'wavelength': 381.006, 'refl...   \n",
      "4 -122.324222  [{'Band': 'B001', 'wavelength': 381.006, 'refl...   \n",
      "\n",
      "           site_no  cirrus_flag  cloud_flag  water_flag  \n",
      "0  441022122193200          0.0         0.0         1.0  \n",
      "1  441022122193200          0.0         0.0         1.0  \n",
      "2  441022122193200          0.0         0.0         1.0  \n",
      "3  441022122193200          0.0         0.0         1.0  \n",
      "4  441022122193200          0.0         0.0         1.0  \n"
     ]
    }
   ],
   "source": [
    "# import mask and ensure format matches\n",
    "mask_df = pd.read_csv(f\"data/{param_codes[0]}_mask.csv\")\n",
    "mask_df.rename(columns={\n",
    "    'Date': 'datetime',\n",
    "    'Category': 'station_nm'\n",
    "}, inplace=True)\n",
    "mask_df['datetime'] = pd.to_datetime(mask_df['datetime'])\n",
    "mask_df['datetime'] = mask_df['datetime'].dt.strftime('%Y-%m-%dT%H:%M:%S.000Z')\n",
    "mask_df.drop(columns=['ID', 'Latitude', 'Longitude', 'elev'], inplace=True)\n",
    "\n",
    "# merge condensed spectral data with masks\n",
    "merged_mask_df = pd.merge(merged_df, mask_df, on=['station_nm', 'datetime'], how='left')\n",
    "\n",
    "# filter for water and cloud\n",
    "water_scenes = merged_mask_df[merged_mask_df['water_flag'] == 1]\n",
    "visible_scenes = water_scenes[(water_scenes['cloud_flag'] == 0) & (water_scenes['cirrus_flag'] == 0)]\n",
    "visible_scenes.reset_index(drop=True, inplace=True)\n",
    "print(visible_scenes.head())"
   ]
  },
  {
   "cell_type": "code",
   "execution_count": 4,
   "id": "8ec245d7-c214-44d6-be9a-4decd2bc6d8d",
   "metadata": {},
   "outputs": [
    {
     "name": "stderr",
     "output_type": "stream",
     "text": [
      "Finding temperature for scenes: 100%|███████████| 62/62 [01:52<00:00,  1.82s/it]\n"
     ]
    }
   ],
   "source": [
    "# import results, ensure spectra is list of dicts\n",
    "param_codes = ['32315']\n",
    "results = pd.read_csv(f\"data/{param_codes[0]}_results.csv\", dtype={'site_no': str})\n",
    "results['spectra'] = results['spectra'].apply(ast.literal_eval)\n",
    "\n",
    "# query the USGS database for temperature results, merge tables\n",
    "temps = get_scenes_temp(results)\n",
    "results['datetime'] = pd.to_datetime(results['datetime'], utc=True)\n",
    "temps['datetime'] = pd.to_datetime(temps['datetime'], utc=True)\n",
    "comb_results = pd.merge(results, temps, on=['site_no', 'datetime'], how='left')\n"
   ]
  },
  {
   "cell_type": "code",
   "execution_count": 5,
   "id": "daf40127-d3bb-4025-8a12-9e0140fdc992",
   "metadata": {},
   "outputs": [
    {
     "name": "stdout",
     "output_type": "stream",
     "text": [
      "0    [{'Band': 'B011', 'wavelength': 455.17, 'refle...\n",
      "1    [{'Band': 'B011', 'wavelength': 455.17, 'refle...\n",
      "2    [{'Band': 'B011', 'wavelength': 455.17, 'refle...\n",
      "3    [{'Band': 'B011', 'wavelength': 455.17, 'refle...\n",
      "4    [{'Band': 'B011', 'wavelength': 455.17, 'refle...\n",
      "Name: spectra, dtype: object\n"
     ]
    }
   ],
   "source": [
    "results = comb_results\n",
    "\n",
    "# define band ranges\n",
    "blue_range = (450, 495)\n",
    "green_range = (495, 570)\n",
    "red_range = (620, 750)\n",
    "nir_range = (750, 900)\n",
    "\n",
    "# filter the spectra for relevant bands\n",
    "def filter_bands(spectra, blue_range, green_range, red_range, nir_range):\n",
    "    filtered_spectra = []\n",
    "    for scene in spectra:\n",
    "        wavelength = scene['wavelength']\n",
    "        reflectance = scene['reflectance']\n",
    "\n",
    "        # exclude invalid reflectance values\n",
    "        if reflectance == -9999.0:\n",
    "            continue\n",
    "        if blue_range[0] <= wavelength <= blue_range[1]:\n",
    "            filtered_spectra.append(scene)\n",
    "        elif green_range[0] <= wavelength <= green_range[1]:\n",
    "            filtered_spectra.append(scene)\n",
    "        elif red_range[0] <= wavelength <= red_range[1]:\n",
    "            filtered_spectra.append(scene)\n",
    "        elif nir_range[0] <= wavelength <= nir_range[1]:\n",
    "            filtered_spectra.append(scene)\n",
    "\n",
    "    return filtered_spectra\n",
    "\n",
    "# apply the filter\n",
    "results['spectra'] = results['spectra'].apply(\n",
    "    lambda x: filter_bands(x, blue_range, green_range, red_range, nir_range)  \n",
    ")\n",
    "\n",
    "# remove scenes with NaN reflectance values in target bands\n",
    "results = results[results['spectra'].apply(lambda x: len(x) > 0)]\n",
    "results.reset_index(drop=True, inplace=True)\n",
    "print(results['spectra'].head())"
   ]
  },
  {
   "cell_type": "code",
   "execution_count": 7,
   "id": "acc25bff-e5f4-4d79-8fe8-c8dcdceccad4",
   "metadata": {},
   "outputs": [
    {
     "name": "stderr",
     "output_type": "stream",
     "text": [
      "/var/folders/z1/jv48g1md32b8z_bqznh_bzb40000gn/T/ipykernel_38227/2090549304.py:5: UserWarning: Converting to PeriodArray/Index representation will drop timezone information.\n",
      "  results['month_year'] = results['datetime'].dt.to_period('M')  # Create month_year from datetime\n",
      "/var/folders/z1/jv48g1md32b8z_bqznh_bzb40000gn/T/ipykernel_38227/2090549304.py:13: FutureWarning: The default of observed=False is deprecated and will be changed to True in a future version of pandas. Pass observed=False to retain current behavior or observed=True to adopt the future default and silence this warning.\n",
      "  grouped = results.groupby(['month_year', 'chla_range']).size().unstack(fill_value=0)\n"
     ]
    },
    {
     "data": {
      "image/png": "[encoded data removed]",
      "text/plain": [
       "<Figure size 1200x800 with 1 Axes>"
      ]
     },
     "metadata": {},
     "output_type": "display_data"
    }
   ],
   "source": [
    "results = pd.read_csv(f\"data/{param_codes[0]}_results.csv\", dtype={'site_no': str})\n",
    "results['spectra'] = results['spectra'].apply(ast.literal_eval)\n",
    "\n",
    "results['datetime'] = pd.to_datetime(results['datetime'], utc=True)\n",
    "results['month_year'] = results['datetime'].dt.to_period('M')  # Create month_year from datetime\n",
    "# Create 'chla_range' column based on 'result' (chlorophyll-a concentration)\n",
    "bins = [0, 1, 2, 3, 4, 5, np.inf]  # Define ranges with a focus on lower values\n",
    "labels = ['0-1', '1-2', '2-3', '3-4', '4-5', '5+']  # Labels for the ranges\n",
    "results['chla_range'] = pd.cut(results['result'], bins=bins, labels=labels, right=False)\n",
    "\n",
    "\n",
    "# Group by month_year and Chla range for stacked bar chart\n",
    "grouped = results.groupby(['month_year', 'chla_range']).size().unstack(fill_value=0)\n",
    "\n",
    "# Plot stacked bar chart\n",
    "fig, ax = plt.subplots(figsize=(12, 8))\n",
    "grouped.plot(kind='bar', stacked=True, ax=ax, cmap='viridis', width=0.85)  # Adjust width to make bars closer\n",
    "\n",
    "# Set title and labels\n",
    "ax.set_title('Number of Chla Fluorescence Matchups per Month', fontsize=14)\n",
    "ax.set_xlabel('Month')\n",
    "ax.set_ylabel('Number of Matchups')\n",
    "\n",
    "# Customize x-axis labels\n",
    "ax.set_xticklabels([date.strftime('%b %Y') for date in grouped.index.to_timestamp()], rotation=45)\n",
    "\n",
    "# Adjust layout to minimize space\n",
    "plt.tight_layout()  # Ensures no overlap of labels\n",
    "plt.subplots_adjust(left=0.08, right=0.95, top=0.9, bottom=0.2)  # Fine-tune padding around the plot\n",
    "\n",
    "plt.show()\n"
   ]
  },
  {
   "cell_type": "code",
   "execution_count": 9,
   "id": "ca470cc0-6002-489e-b544-f2b4cdad9ee8",
   "metadata": {},
   "outputs": [
    {
     "name": "stdout",
     "output_type": "stream",
     "text": [
      "           site_no  scene_count\n",
      "0  400853105563701            8\n",
      "1        011008745            6\n",
      "2  410613073215801            5\n",
      "3  410606073245700            5\n",
      "4  410729073171701            5\n",
      "Number of unique sites: 22\n"
     ]
    }
   ],
   "source": [
    "# display unique sites and their scene counts\n",
    "num_unique_sites = comb_results['site_no'].nunique()\n",
    "scenes_per_site = comb_results['site_no'].value_counts().reset_index()\n",
    "scenes_per_site.columns = ['site_no', 'scene_count']\n",
    "\n",
    "print(scenes_per_site.head())\n",
    "print(f\"Number of unique sites: {num_unique_sites}\")\n"
   ]
  },
  {
   "cell_type": "code",
   "execution_count": 12,
   "id": "041a550e-73f5-40e4-a059-277fac4064e7",
   "metadata": {},
   "outputs": [
    {
     "ename": "KeyError",
     "evalue": "'reflectance'",
     "output_type": "error",
     "traceback": [
      "\u001b[0;31m---------------------------------------------------------------------------\u001b[0m",
      "\u001b[0;31mKeyError\u001b[0m                                  Traceback (most recent call last)",
      "Cell \u001b[0;32mIn[12], line 20\u001b[0m\n\u001b[1;32m     17\u001b[0m spectra_df \u001b[38;5;241m=\u001b[39m pd\u001b[38;5;241m.\u001b[39mDataFrame(spectra_list)\n\u001b[1;32m     19\u001b[0m \u001b[38;5;66;03m# remove invalid spectra and limit sides to 1000\u001b[39;00m\n\u001b[0;32m---> 20\u001b[0m spectra_df[\u001b[38;5;124m'\u001b[39m\u001b[38;5;124mreflectance\u001b[39m\u001b[38;5;124m'\u001b[39m] \u001b[38;5;241m=\u001b[39m \u001b[43mspectra_df\u001b[49m\u001b[43m[\u001b[49m\u001b[38;5;124;43m'\u001b[39;49m\u001b[38;5;124;43mreflectance\u001b[39;49m\u001b[38;5;124;43m'\u001b[39;49m\u001b[43m]\u001b[49m\u001b[38;5;241m.\u001b[39mreplace(\u001b[38;5;241m-\u001b[39m\u001b[38;5;241m9999\u001b[39m, np\u001b[38;5;241m.\u001b[39mnan)\n\u001b[1;32m     21\u001b[0m spectra_df[\u001b[38;5;124m'\u001b[39m\u001b[38;5;124mreflectance\u001b[39m\u001b[38;5;124m'\u001b[39m] \u001b[38;5;241m=\u001b[39m spectra_df[\u001b[38;5;124m'\u001b[39m\u001b[38;5;124mreflectance\u001b[39m\u001b[38;5;124m'\u001b[39m]\u001b[38;5;241m.\u001b[39mwhere(\u001b[38;5;28mabs\u001b[39m(spectra_df[\u001b[38;5;124m'\u001b[39m\u001b[38;5;124mreflectance\u001b[39m\u001b[38;5;124m'\u001b[39m] \u001b[38;5;241m-\u001b[39m (\u001b[38;5;241m-\u001b[39m\u001b[38;5;241m0.01\u001b[39m)) \u001b[38;5;241m>\u001b[39m \u001b[38;5;241m1e-8\u001b[39m, np\u001b[38;5;241m.\u001b[39mnan)\n\u001b[1;32m     22\u001b[0m spectra_df[\u001b[38;5;124m'\u001b[39m\u001b[38;5;124mreflectance\u001b[39m\u001b[38;5;124m'\u001b[39m] \u001b[38;5;241m=\u001b[39m spectra_df[\u001b[38;5;124m'\u001b[39m\u001b[38;5;124mreflectance\u001b[39m\u001b[38;5;124m'\u001b[39m]\u001b[38;5;241m.\u001b[39mwhere(spectra_df[\u001b[38;5;124m'\u001b[39m\u001b[38;5;124mreflectance\u001b[39m\u001b[38;5;124m'\u001b[39m] \u001b[38;5;241m>\u001b[39m\u001b[38;5;241m=\u001b[39m \u001b[38;5;241m0\u001b[39m, np\u001b[38;5;241m.\u001b[39mnan)\n",
      "File \u001b[0;32m~/miniforge3/envs/emit/lib/python3.10/site-packages/pandas/core/frame.py:4102\u001b[0m, in \u001b[0;36mDataFrame.__getitem__\u001b[0;34m(self, key)\u001b[0m\n\u001b[1;32m   4100\u001b[0m \u001b[38;5;28;01mif\u001b[39;00m \u001b[38;5;28mself\u001b[39m\u001b[38;5;241m.\u001b[39mcolumns\u001b[38;5;241m.\u001b[39mnlevels \u001b[38;5;241m>\u001b[39m \u001b[38;5;241m1\u001b[39m:\n\u001b[1;32m   4101\u001b[0m     \u001b[38;5;28;01mreturn\u001b[39;00m \u001b[38;5;28mself\u001b[39m\u001b[38;5;241m.\u001b[39m_getitem_multilevel(key)\n\u001b[0;32m-> 4102\u001b[0m indexer \u001b[38;5;241m=\u001b[39m \u001b[38;5;28;43mself\u001b[39;49m\u001b[38;5;241;43m.\u001b[39;49m\u001b[43mcolumns\u001b[49m\u001b[38;5;241;43m.\u001b[39;49m\u001b[43mget_loc\u001b[49m\u001b[43m(\u001b[49m\u001b[43mkey\u001b[49m\u001b[43m)\u001b[49m\n\u001b[1;32m   4103\u001b[0m \u001b[38;5;28;01mif\u001b[39;00m is_integer(indexer):\n\u001b[1;32m   4104\u001b[0m     indexer \u001b[38;5;241m=\u001b[39m [indexer]\n",
      "File \u001b[0;32m~/miniforge3/envs/emit/lib/python3.10/site-packages/pandas/core/indexes/range.py:417\u001b[0m, in \u001b[0;36mRangeIndex.get_loc\u001b[0;34m(self, key)\u001b[0m\n\u001b[1;32m    415\u001b[0m         \u001b[38;5;28;01mraise\u001b[39;00m \u001b[38;5;167;01mKeyError\u001b[39;00m(key) \u001b[38;5;28;01mfrom\u001b[39;00m \u001b[38;5;21;01merr\u001b[39;00m\n\u001b[1;32m    416\u001b[0m \u001b[38;5;28;01mif\u001b[39;00m \u001b[38;5;28misinstance\u001b[39m(key, Hashable):\n\u001b[0;32m--> 417\u001b[0m     \u001b[38;5;28;01mraise\u001b[39;00m \u001b[38;5;167;01mKeyError\u001b[39;00m(key)\n\u001b[1;32m    418\u001b[0m \u001b[38;5;28mself\u001b[39m\u001b[38;5;241m.\u001b[39m_check_indexing_error(key)\n\u001b[1;32m    419\u001b[0m \u001b[38;5;28;01mraise\u001b[39;00m \u001b[38;5;167;01mKeyError\u001b[39;00m(key)\n",
      "\u001b[0;31mKeyError\u001b[0m: 'reflectance'"
     ]
    }
   ],
   "source": [
    "\n",
    "# select a site to plot\n",
    "site_no_plot = '295826095082200' \n",
    "site_scenes = results[results['site_no'] == site_no_plot]\n",
    "\n",
    "# explode the spectra\n",
    "spectra_list = []\n",
    "for index, row in site_scenes.iterrows():\n",
    "    for spectrum in row['spectra']:\n",
    "        spectra_list.append({\n",
    "            'datetime': row['datetime'],\n",
    "            'site_no': row['site_no'],\n",
    "            'station_nm': row['station_nm'],\n",
    "            'result': row['result'],\n",
    "            'wavelength': spectrum['wavelength'],\n",
    "            'reflectance': spectrum['reflectance']\n",
    "        })\n",
    "spectra_df = pd.DataFrame(spectra_list)\n",
    "\n",
    "# remove invalid spectra and limit sides to 1000\n",
    "spectra_df['reflectance'] = spectra_df['reflectance'].replace(-9999, np.nan)\n",
    "spectra_df['reflectance'] = spectra_df['reflectance'].where(abs(spectra_df['reflectance'] - (-0.01)) > 1e-8, np.nan)\n",
    "spectra_df['reflectance'] = spectra_df['reflectance'].where(spectra_df['reflectance'] >= 0, np.nan)\n",
    "spectra_df = spectra_df[(spectra_df['wavelength'] >= 400) & (spectra_df['wavelength'] <= 900)]\n",
    "\n",
    "# set colour map\n",
    "norm = mcolors.Normalize(vmin=site_scenes['result'].min(), vmax=site_scenes['result'].max())\n",
    "cmap = cm.Greens\n",
    "cmap = cmap(np.linspace(0.1, 1, cmap.N))\n",
    "cmap = mcolors.ListedColormap(cmap)\n",
    "\n",
    "# plot the spectra\n",
    "plt.figure(figsize=(12, 6))\n",
    "for datetime, group in spectra_df.groupby('datetime'):\n",
    "    result_label = group['result'].iloc[0]\n",
    "    color = cmap(norm(result_label))\n",
    "    plt.plot(group['wavelength'], group['reflectance'], color=color, label=datetime.strftime('%Y-%m-%d %H:%M:%S'))\n",
    "\n",
    "plt.xlabel('Wavelength (nm)')\n",
    "plt.ylabel('Reflectance')\n",
    "plt.title(f\"Spectra vs In Situ for Site: {site_scenes['station_nm'].iloc[0]}\")\n",
    "plt.colorbar(cm.ScalarMappable(norm=norm, cmap=cmap), ax=plt.gca(), label='Chla (ug/l)', orientation='vertical')\n",
    "plt.grid(True)\n",
    "plt.tight_layout()\n",
    "plt.show()\n",
    "\n"
   ]
  },
  {
   "cell_type": "code",
   "execution_count": null,
   "id": "097a4c38-5516-40b2-89b8-df49359d5468",
   "metadata": {},
   "outputs": [],
   "source": []
  }
 ],
 "metadata": {
  "kernelspec": {
   "display_name": "Python 3 (ipykernel)",
   "language": "python",
   "name": "python3"
  },
  "language_info": {
   "codemirror_mode": {
    "name": "ipython",
    "version": 3
   },
   "file_extension": ".py",
   "mimetype": "text/x-python",
   "name": "python",
   "nbconvert_exporter": "python",
   "pygments_lexer": "ipython3",
   "version": "3.10.14"
  }
 },
 "nbformat": 4,
 "nbformat_minor": 5
}
