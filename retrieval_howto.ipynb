{
 "cells": [
  {
   "cell_type": "markdown",
   "id": "c419c8a2-b5a9-4e13-aaa7-88a00baba9b2",
   "metadata": {},
   "source": [
    "## USGS and EMIT Data Matchup\n",
    "In this notebook we will search the USGS database for a specific state code and paramater code/s to retrieve a list of sites. We will then use the site coordinates to find matching EMIT granules and gather data around the EMIT granules time stamp. "
   ]
  },
  {
   "cell_type": "markdown",
   "id": "41880e8d-fd8d-481b-920d-b82e128e21a9",
   "metadata": {},
   "source": [
    "### 1. Retrieving site codes\n",
    "First import package and utils file"
   ]
  },
  {
   "cell_type": "code",
   "execution_count": 1,
   "id": "39c2238e-8c67-4494-b271-0f1c37c997c3",
   "metadata": {},
   "outputs": [],
   "source": [
    "import dataretrieval.nwis as nwis\n",
    "import geopandas as gpd\n",
    "from shapely.geometry import Point, box, Polygon, MultiPolygon\n",
    "import requests\n",
    "import pandas as pd\n",
    "import datetime as dt\n",
    "import earthaccess\n",
    "from tqdm import tqdm\n",
    "import sys\n",
    "sys.path.append('modules/')\n",
    "from retrieval_utils import get_param_sites, get_all_site_granules, match_granules"
   ]
  },
  {
   "cell_type": "markdown",
   "id": "f44a4fe3-664c-4113-b3f4-bc1b76688093",
   "metadata": {},
   "source": [
    "Next we can find active parameters using the USGS website, for a separate guide on this there is a PDF called \"Get param codes\" in the Github. \n",
    "\n",
    "Then we can define the time-frame, state code and paramater codes and call the function. Note: all three are required for the function to work. "
   ]
  },
  {
   "cell_type": "code",
   "execution_count": 2,
   "id": "6a4374ff-c5bc-4c75-aa8b-24bd2e4155c1",
   "metadata": {
    "is_executing": true
   },
   "outputs": [
    {
     "name": "stderr",
     "output_type": "stream",
     "text": [
      "Processing sites: 100%|█████████████████████████| 56/56 [01:52<00:00,  2.00s/it]"
     ]
    },
    {
     "name": "stdout",
     "output_type": "stream",
     "text": [
      "196\n",
      "     site_no                                         station_nm   dec_lat_va  \\\n",
      "0  072632996   Lk Maumelle Raw Water Intake nr Natural Steps,AR  34.85194444   \n",
      "1   07362591  Alum Fork Saline River at Winona Dam at Reform...  34.79777778   \n",
      "2   11173200                        ARROYO HONDO NR SAN JOSE CA  37.46160337   \n",
      "3   11273400             SAN JOAQUIN R AB MERCED R NR NEWMAN CA   37.3472151   \n",
      "4   11312676                        MIDDLE R AT MIDDLE RIVER CA  37.94226944   \n",
      "\n",
      "    dec_long_va  \n",
      "0   -92.4891667  \n",
      "1   -92.8455556  \n",
      "2   -121.769397  \n",
      "3  -120.9761777  \n",
      "4     -121.5337  \n",
      "196\n"
     ]
    },
    {
     "name": "stderr",
     "output_type": "stream",
     "text": [
      "\n"
     ]
    }
   ],
   "source": [
    "param_codes = ['32315'] # chla fluorescence\n",
    "param_codes_str = ','.join(param_codes) \n",
    "state_codes = [f\"{i:02d}\" for i in range(1, 57)]\n",
    "start_date = '2022-01-01'\n",
    "end_date = '2024-10-03'\n",
    "\n",
    "site_list = get_param_sites(param_codes_str, state_codes, start_date, end_date)\n",
    "print(site_list.head())\n",
    "print(len(site_list))"
   ]
  },
  {
   "cell_type": "code",
   "execution_count": 3,
   "id": "66b43784-633d-4149-a8f7-98c56eae1bb3",
   "metadata": {},
   "outputs": [],
   "source": [
    "site_list.to_csv('data/chla_sites2.csv', index=False)"
   ]
  },
  {
   "cell_type": "markdown",
   "id": "522c9974-5a14-43c6-af9a-8ec0e73cfe5e",
   "metadata": {},
   "source": [
    "### 2. Retrieving granules based on site locations\n",
    "Now we have the site list we can use coordinates to search for matching granules. \n",
    "\n",
    "Next setup the granule search and call the function."
   ]
  },
  {
   "cell_type": "code",
   "execution_count": 4,
   "id": "9b617233-065f-485d-9a31-270b87e82e4b",
   "metadata": {},
   "outputs": [
    {
     "name": "stderr",
     "output_type": "stream",
     "text": [
      "Processing sites: 100%|███████████████████████| 196/196 [04:12<00:00,  1.29s/it]"
     ]
    },
    {
     "name": "stdout",
     "output_type": "stream",
     "text": [
      "     site_no                                         station_nm     site_lat  \\\n",
      "0  072632996   Lk Maumelle Raw Water Intake nr Natural Steps,AR  34.85194444   \n",
      "1  072632996   Lk Maumelle Raw Water Intake nr Natural Steps,AR  34.85194444   \n",
      "2  072632996   Lk Maumelle Raw Water Intake nr Natural Steps,AR  34.85194444   \n",
      "3   07362591  Alum Fork Saline River at Winona Dam at Reform...  34.79777778   \n",
      "4   11173200                        ARROYO HONDO NR SAN JOSE CA  37.46160337   \n",
      "\n",
      "      site_lon                                       granule_urls  \\\n",
      "0  -92.4891667  [https://data.lpdaac.earthdatacloud.nasa.gov/l...   \n",
      "1  -92.4891667  [https://data.lpdaac.earthdatacloud.nasa.gov/l...   \n",
      "2  -92.4891667  [https://data.lpdaac.earthdatacloud.nasa.gov/l...   \n",
      "3  -92.8455556  [https://data.lpdaac.earthdatacloud.nasa.gov/l...   \n",
      "4  -121.769397  [https://data.lpdaac.earthdatacloud.nasa.gov/l...   \n",
      "\n",
      "                   datetime  \n",
      "0  2024-01-28T19:13:25.000Z  \n",
      "1  2024-01-28T19:13:37.000Z  \n",
      "2  2024-02-26T15:23:32.000Z  \n",
      "3  2024-02-18T18:36:23.000Z  \n",
      "4  2022-08-10T17:42:13.000Z  \n",
      "1945\n"
     ]
    },
    {
     "name": "stderr",
     "output_type": "stream",
     "text": [
      "\n"
     ]
    }
   ],
   "source": [
    "\n",
    "start_date_dt = dt.datetime.strptime(start_date, '%Y-%m-%d')\n",
    "end_date_dt = dt.datetime.strptime(end_date, '%Y-%m-%d')\n",
    "dt_format = '%Y-%m-%dT%H:%M:%SZ'\n",
    "temporal_str = start_date_dt.strftime(dt_format) + ',' + end_date_dt.strftime(dt_format)\n",
    "\n",
    "site_granules = get_all_site_granules(site_list, temporal_str)\n",
    "df_granules = pd.DataFrame(site_granules)\n",
    "print(df_granules.head())\n",
    "print(len(df_granules))"
   ]
  },
  {
   "cell_type": "markdown",
   "id": "93c35179-6c90-422d-bdfb-ab5b5dcf0020",
   "metadata": {},
   "source": [
    "### 3. Collecting and matching data base on granule times\n",
    "\n",
    "Next we can use the granule times and locations to collect and match the USGS data. \n",
    "The function will match, with each granule, the closest data time within the time window. \n",
    "\n",
    "Call the function and optionally store as a csv file. "
   ]
  },
  {
   "cell_type": "code",
   "execution_count": 5,
   "id": "5295e8ec-479e-4f65-b500-0c72edaafd43",
   "metadata": {},
   "outputs": [
    {
     "name": "stderr",
     "output_type": "stream",
     "text": [
      "Processing granules: 100%|██████████████████| 1945/1945 [14:22<00:00,  2.26it/s]"
     ]
    },
    {
     "name": "stdout",
     "output_type": "stream",
     "text": [
      "     site_no                                        station_nm     site_lat  \\\n",
      "0  072632996  Lk Maumelle Raw Water Intake nr Natural Steps,AR  34.85194444   \n",
      "1  072632996  Lk Maumelle Raw Water Intake nr Natural Steps,AR  34.85194444   \n",
      "2  072632996  Lk Maumelle Raw Water Intake nr Natural Steps,AR  34.85194444   \n",
      "3   11273400            SAN JOAQUIN R AB MERCED R NR NEWMAN CA   37.3472151   \n",
      "4   11273400            SAN JOAQUIN R AB MERCED R NR NEWMAN CA   37.3472151   \n",
      "\n",
      "       site_lon              granule_time  \\\n",
      "0   -92.4891667 2024-01-28 19:13:25+00:00   \n",
      "1   -92.4891667 2024-01-28 19:13:37+00:00   \n",
      "2   -92.4891667 2024-02-26 15:23:32+00:00   \n",
      "3  -120.9761777 2022-08-10 17:42:13+00:00   \n",
      "4  -120.9761777 2022-08-14 16:05:05+00:00   \n",
      "\n",
      "                                        granule_urls result result_unit  \\\n",
      "0  [https://data.lpdaac.earthdatacloud.nasa.gov/l...   3.62         RFU   \n",
      "1  [https://data.lpdaac.earthdatacloud.nasa.gov/l...   3.62         RFU   \n",
      "2  [https://data.lpdaac.earthdatacloud.nasa.gov/l...   3.65         RFU   \n",
      "3  [https://data.lpdaac.earthdatacloud.nasa.gov/l...   2.12         RFU   \n",
      "4  [https://data.lpdaac.earthdatacloud.nasa.gov/l...   2.66         RFU   \n",
      "\n",
      "                     result_time  \n",
      "0  2024-01-28T13:45:00.000-06:00  \n",
      "1  2024-01-28T13:45:00.000-06:00  \n",
      "2  2024-02-26T09:55:00.000-06:00  \n",
      "3  2022-08-10T10:45:00.000-07:00  \n",
      "4  2022-08-14T09:00:00.000-07:00  \n",
      "375\n"
     ]
    },
    {
     "name": "stderr",
     "output_type": "stream",
     "text": [
      "\n"
     ]
    }
   ],
   "source": [
    "results = match_granules(df_granules, param_codes)\n",
    "print(results.head())\n",
    "print(len(results))\n",
    "#results.to_csv('results.csv', index=False)"
   ]
  },
  {
   "cell_type": "code",
   "execution_count": null,
   "id": "b5146bdc-fdb8-4ce3-841a-83abcc2a745b",
   "metadata": {},
   "outputs": [],
   "source": []
  }
 ],
 "metadata": {
  "kernelspec": {
   "display_name": "Python 3 (ipykernel)",
   "language": "python",
   "name": "python3"
  },
  "language_info": {
   "codemirror_mode": {
    "name": "ipython",
    "version": 3
   },
   "file_extension": ".py",
   "mimetype": "text/x-python",
   "name": "python",
   "nbconvert_exporter": "python",
   "pygments_lexer": "ipython3",
   "version": "3.10.14"
  }
 },
 "nbformat": 4,
 "nbformat_minor": 5
}
