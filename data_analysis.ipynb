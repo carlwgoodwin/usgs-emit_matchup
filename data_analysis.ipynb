{
 "cells": [
  {
   "cell_type": "code",
   "execution_count": 1,
   "id": "94597800-4139-46c1-a0ae-44f38b3d6b50",
   "metadata": {},
   "outputs": [],
   "source": [
    "\n",
    "import dataretrieval.nwis as nwis\n",
    "import geopandas as gpd\n",
    "from shapely.geometry import Point, box, Polygon, MultiPolygon\n",
    "import requests\n",
    "import pandas as pd\n",
    "import datetime as dt\n",
    "import earthaccess\n",
    "from tqdm import tqdm\n",
    "from shapely.ops import nearest_points\n",
    "import sys\n",
    "sys.path.append('modules/')\n",
    "from retrieval_utils_appeearsTest import get_param_sites, get_scenes_results, get_scenes_temp, get_scenes_turb\n",
    "import matplotlib.pyplot as plt\n",
    "import matplotlib.colors as mcolors\n",
    "import matplotlib.cm as cm\n",
    "import numpy as np\n",
    "import geopy\n",
    "import ast\n",
    "from sklearn.preprocessing import StandardScaler\n",
    "import statsmodels.api as sm\n"
   ]
  },
  {
   "cell_type": "code",
   "execution_count": 104,
   "id": "35c54aed-12f3-46f7-878b-8e74654430b7",
   "metadata": {},
   "outputs": [
    {
     "name": "stderr",
     "output_type": "stream",
     "text": [
      "Finding temperature for scenes: 100%|███████████| 93/93 [00:45<00:00,  2.05it/s]\n"
     ]
    }
   ],
   "source": [
    "# import results, ensure spectra is list of dicts\n",
    "param_codes = ['32316']\n",
    "results = pd.read_csv(f\"data/{param_codes[0]}_results.csv\", dtype={'site_no': str})\n",
    "results['spectra'] = results['spectra'].apply(ast.literal_eval)\n",
    "\n",
    "# query the USGS database for temperature results, merge tables\n",
    "temps = get_scenes_temp(results)\n",
    "results['datetime'] = pd.to_datetime(results['datetime'], utc=True)\n",
    "temps['datetime'] = pd.to_datetime(temps['datetime'], utc=True)\n",
    "comb_results = pd.merge(results, temps, on=['site_no', 'datetime'], how='left')\n"
   ]
  },
  {
   "cell_type": "code",
   "execution_count": 105,
   "id": "24071525-a22d-4318-9258-90b245eddd99",
   "metadata": {},
   "outputs": [
    {
     "name": "stderr",
     "output_type": "stream",
     "text": [
      "Finding turbidity for scenes: 100%|█████████████| 92/92 [00:43<00:00,  2.10it/s]\n"
     ]
    }
   ],
   "source": [
    "# query the USGS database for turbidity results, merge tables\n",
    "comb_results = comb_results.dropna(subset=['temp'])\n",
    "turbs = get_scenes_turb(comb_results)\n",
    "comb_results['datetime'] = pd.to_datetime(comb_results['datetime'], utc=True)\n",
    "turbs['datetime'] = pd.to_datetime(turbs['datetime'], utc=True)\n",
    "turb_results = pd.merge(comb_results, turbs, on=['site_no', 'datetime'], how='left')"
   ]
  },
  {
   "cell_type": "code",
   "execution_count": 112,
   "id": "810740ee-9110-473b-8434-2d4f752a7d6e",
   "metadata": {},
   "outputs": [
    {
     "name": "stdout",
     "output_type": "stream",
     "text": [
      "0      clear\n",
      "1     turbid\n",
      "2      clear\n",
      "4     turbid\n",
      "5     turbid\n",
      "       ...  \n",
      "87     clear\n",
      "88     clear\n",
      "89     clear\n",
      "90     clear\n",
      "91     clear\n",
      "Name: water_type, Length: 84, dtype: object\n"
     ]
    }
   ],
   "source": [
    "# categorise rows into clear or turbid waters based on results\n",
    "turb_results['turbidity'] = pd.to_numeric(turb_results['turbidity'], errors='coerce')\n",
    "results_clean = turb_results.dropna(subset=['turbidity']).copy()\n",
    "def classify_water(row):\n",
    "    if row['turbidity'] <= 15:\n",
    "        return 'clear'\n",
    "    else:\n",
    "        return 'turbid'\n",
    "results_clean['water_type'] = results_clean.apply(classify_water, axis=1)\n",
    "\n",
    "# Split the dataset into two groups\\\n",
    "clear_water = results_clean[results_clean['water_type'] == 'clear']\n",
    "turbid_water = results_clean[results_clean['water_type'] == 'turbid']\n",
    "print(results_clean['water_type'])"
   ]
  },
  {
   "cell_type": "code",
   "execution_count": 113,
   "id": "a31daa18-9cff-474b-a72c-c26826699d75",
   "metadata": {},
   "outputs": [
    {
     "name": "stdout",
     "output_type": "stream",
     "text": [
      "       turbidity  result   temp\n",
      "count      38.00   38.00  38.00\n",
      "mean       36.27    9.63  21.74\n",
      "std        20.70    7.21   5.95\n",
      "min        15.20    2.10  10.60\n",
      "25%        21.98    3.84  19.45\n",
      "50%        30.60    7.55  21.70\n",
      "75%        42.08   13.94  26.67\n",
      "max       118.00   29.29  32.10\n"
     ]
    }
   ],
   "source": [
    "# basic descriptive statistics for turbid water\n",
    "turbid_stats = turbid_water[['turbidity', 'result', 'temp']].astype(float).describe().round(2)\n",
    "print(turbid_stats)\n"
   ]
  },
  {
   "cell_type": "code",
   "execution_count": 115,
   "id": "bbf35711-3494-45d3-b82e-26b620d82be8",
   "metadata": {},
   "outputs": [
    {
     "name": "stdout",
     "output_type": "stream",
     "text": [
      "    turbidity_standard  result_standard  temp_standard\n",
      "1             0.084885        -0.838120      -0.398732\n",
      "4             2.365827        -0.582376      -0.279561\n",
      "5             0.593936        -0.752404       0.878107\n",
      "9            -0.448640         0.961924       0.912156\n",
      "11           -0.458430         1.074339      -0.228487\n"
     ]
    }
   ],
   "source": [
    "\n",
    "# standardise data\n",
    "turbid_water = turbid_water.copy()\n",
    "data_to_standardise = turbid_water[['turbidity', 'result', 'temp']].astype(float)\n",
    "scaler = StandardScaler()\n",
    "standardised_data = scaler.fit_transform(data_to_standardise)\n",
    "turbid_water[['turbidity_standard', 'result_standard', 'temp_standard']] = standardised_data\n",
    "print(turbid_water[['turbidity_standard', 'result_standard', 'temp_standard']].head())\n"
   ]
  },
  {
   "cell_type": "code",
   "execution_count": 117,
   "id": "349790b2-fafe-4892-8cac-5528a9c53b4d",
   "metadata": {},
   "outputs": [
    {
     "name": "stdout",
     "output_type": "stream",
     "text": [
      "   blue_standard  green_standard  red_standard  nir_standard\n",
      "0       0.068895       -0.280634     -0.025308      0.173221\n",
      "1      -1.144734       -1.184893     -0.498047      0.664423\n",
      "2       0.021258       -0.052572      0.410800      1.134019\n",
      "3       0.890539        0.509206      0.347243      0.776794\n",
      "4      -0.881056       -1.003274     -0.810646     -0.717300\n"
     ]
    }
   ],
   "source": [
    "clear_water = clear_water.copy()\n",
    "turbid_water = turbid_water.copy()\n",
    "\n",
    "# target bands\n",
    "blue_range = (450, 495)\n",
    "green_range = (495, 570)\n",
    "red_range = (620, 750)\n",
    "nir_range = (750, 900)\n",
    "\n",
    "# filter spectra for target bands\n",
    "def filter_bands(spectra, band_ranges):\n",
    "    filtered_spectra = {'blue': [], 'green': [], 'red': [], 'nir': []}\n",
    "    for scene in spectra:\n",
    "        wavelength = scene['wavelength']\n",
    "        reflectance = scene['reflectance']\n",
    "        if reflectance == -9999.0:\n",
    "            continue\n",
    "        if blue_range[0] <= wavelength <= blue_range[1]:\n",
    "            filtered_spectra['blue'].append(reflectance)\n",
    "        elif green_range[0] <= wavelength <= green_range[1]:\n",
    "            filtered_spectra['green'].append(reflectance)\n",
    "        elif red_range[0] <= wavelength <= red_range[1]:\n",
    "            filtered_spectra['red'].append(reflectance)\n",
    "        elif nir_range[0] <= wavelength <= nir_range[1]:\n",
    "            filtered_spectra['nir'].append(reflectance)\n",
    "    \n",
    "    # calculate mean reflectance for each band\n",
    "    for band in filtered_spectra:\n",
    "        filtered_spectra[band] = np.mean(filtered_spectra[band]) if filtered_spectra[band] else np.nan\n",
    "    return pd.Series(filtered_spectra)\n",
    "\n",
    "# Apply the filter to the 'spectra' column for both clear and turbid water datasets\n",
    "clear_water[['blue_mean', 'green_mean', 'red_mean', 'nir_mean']] = clear_water['spectra'].apply(\n",
    "    lambda x: filter_bands(x, [blue_range, green_range, red_range, nir_range]))\n",
    "turbid_water[['blue_mean', 'green_mean', 'red_mean', 'nir_mean']] = turbid_water['spectra'].apply(\n",
    "    lambda x: filter_bands(x, [blue_range, green_range, red_range, nir_range]))\n",
    "\n",
    "# standardize the filtered reflectance values for the turbid water\n",
    "reflectance_to_standardize = turbid_water[['blue_mean', 'green_mean', 'red_mean', 'nir_mean']].astype(float)\n",
    "reflectance_scaler = StandardScaler()\n",
    "reflectance_standardized = reflectance_scaler.fit_transform(reflectance_to_standardize)\n",
    "turbid_water[['blue_standard', 'green_standard', 'red_standard', 'nir_standard']] = reflectance_standardized\n",
    "\n",
    "# Remove rows where reflectance data is missing (optional)\n",
    "turbid_water.dropna(subset=['blue_mean', 'green_mean', 'red_mean', 'nir_mean'], inplace=True)\n",
    "clear_water.dropna(subset=['blue_mean', 'green_mean', 'red_mean', 'nir_mean'], inplace=True)\n",
    "\n",
    "# Reset index\n",
    "turbid_water.reset_index(drop=True, inplace=True)\n",
    "clear_water.reset_index(drop=True, inplace=True)\n",
    "\n",
    "# Display the filtered and standardized results\n",
    "print(turbid_water[['blue_standard', 'green_standard', 'red_standard', 'nir_standard']].head())\n"
   ]
  },
  {
   "cell_type": "code",
   "execution_count": 118,
   "id": "eede47fa-a565-4759-9ba0-3f62441901a7",
   "metadata": {},
   "outputs": [
    {
     "name": "stdout",
     "output_type": "stream",
     "text": [
      "       turbidity_standard  result_standard  temp_standard  blue_standard  \\\n",
      "count               35.00            35.00          35.00          35.00   \n",
      "mean                 0.05             0.01          -0.06           0.00   \n",
      "std                  1.03             1.05           1.03           1.01   \n",
      "min                 -0.99            -1.06          -1.90          -2.43   \n",
      "25%                 -0.68            -0.83          -0.40          -0.71   \n",
      "\n",
      "       green_standard  red_standard  nir_standard  \n",
      "count           35.00         35.00         35.00  \n",
      "mean            -0.00          0.00         -0.00  \n",
      "std              1.01          1.01          1.01  \n",
      "min             -2.16         -1.71         -1.80  \n",
      "25%             -0.80         -0.79         -0.58  \n"
     ]
    }
   ],
   "source": [
    "# combine all standardised columns and create statistics\n",
    "standardized_data_all = turbid_water[['turbidity_standard', 'result_standard', 'temp_standard', 'blue_standard', 'green_standard', 'red_standard', 'nir_standard']]\n",
    "desc_stats_all = standardized_data_all.describe()\n",
    "desc_stats_all = desc_stats_all.round(2)\n",
    "print(desc_stats_all.head())"
   ]
  },
  {
   "cell_type": "code",
   "execution_count": 119,
   "id": "0edfc03e-12d9-47aa-a398-869a1e63d4d9",
   "metadata": {},
   "outputs": [
    {
     "ename": "KeyError",
     "evalue": "\"None of [Index(['blue_standard', 'green_standard', 'red_standard', 'nir_standard'], dtype='object')] are in the [columns]\"",
     "output_type": "error",
     "traceback": [
      "\u001b[0;31m---------------------------------------------------------------------------\u001b[0m",
      "\u001b[0;31mKeyError\u001b[0m                                  Traceback (most recent call last)",
      "Cell \u001b[0;32mIn[119], line 2\u001b[0m\n\u001b[1;32m      1\u001b[0m \u001b[38;5;66;03m#X = turbid_water[['turbidity_standard', 'result_standard', 'temp_standard', 'blue_standard', 'green_standard', 'red_standard', 'nir_standard']]\u001b[39;00m\n\u001b[0;32m----> 2\u001b[0m X \u001b[38;5;241m=\u001b[39m \u001b[43mclear_water\u001b[49m\u001b[43m[\u001b[49m\u001b[43m[\u001b[49m\u001b[38;5;124;43m'\u001b[39;49m\u001b[38;5;124;43mblue_standard\u001b[39;49m\u001b[38;5;124;43m'\u001b[39;49m\u001b[43m,\u001b[49m\u001b[43m \u001b[49m\u001b[38;5;124;43m'\u001b[39;49m\u001b[38;5;124;43mgreen_standard\u001b[39;49m\u001b[38;5;124;43m'\u001b[39;49m\u001b[43m,\u001b[49m\u001b[38;5;124;43m'\u001b[39;49m\u001b[38;5;124;43mred_standard\u001b[39;49m\u001b[38;5;124;43m'\u001b[39;49m\u001b[43m,\u001b[49m\u001b[43m \u001b[49m\u001b[38;5;124;43m'\u001b[39;49m\u001b[38;5;124;43mnir_standard\u001b[39;49m\u001b[38;5;124;43m'\u001b[39;49m\u001b[43m]\u001b[49m\u001b[43m]\u001b[49m\n\u001b[1;32m      3\u001b[0m y \u001b[38;5;241m=\u001b[39m clear_water[\u001b[38;5;124m'\u001b[39m\u001b[38;5;124mresult_standard\u001b[39m\u001b[38;5;124m'\u001b[39m]\n\u001b[1;32m      4\u001b[0m X \u001b[38;5;241m=\u001b[39m sm\u001b[38;5;241m.\u001b[39madd_constant(X)\n",
      "File \u001b[0;32m~/miniforge3/envs/emit/lib/python3.10/site-packages/pandas/core/frame.py:4108\u001b[0m, in \u001b[0;36mDataFrame.__getitem__\u001b[0;34m(self, key)\u001b[0m\n\u001b[1;32m   4106\u001b[0m     \u001b[38;5;28;01mif\u001b[39;00m is_iterator(key):\n\u001b[1;32m   4107\u001b[0m         key \u001b[38;5;241m=\u001b[39m \u001b[38;5;28mlist\u001b[39m(key)\n\u001b[0;32m-> 4108\u001b[0m     indexer \u001b[38;5;241m=\u001b[39m \u001b[38;5;28;43mself\u001b[39;49m\u001b[38;5;241;43m.\u001b[39;49m\u001b[43mcolumns\u001b[49m\u001b[38;5;241;43m.\u001b[39;49m\u001b[43m_get_indexer_strict\u001b[49m\u001b[43m(\u001b[49m\u001b[43mkey\u001b[49m\u001b[43m,\u001b[49m\u001b[43m \u001b[49m\u001b[38;5;124;43m\"\u001b[39;49m\u001b[38;5;124;43mcolumns\u001b[39;49m\u001b[38;5;124;43m\"\u001b[39;49m\u001b[43m)\u001b[49m[\u001b[38;5;241m1\u001b[39m]\n\u001b[1;32m   4110\u001b[0m \u001b[38;5;66;03m# take() does not accept boolean indexers\u001b[39;00m\n\u001b[1;32m   4111\u001b[0m \u001b[38;5;28;01mif\u001b[39;00m \u001b[38;5;28mgetattr\u001b[39m(indexer, \u001b[38;5;124m\"\u001b[39m\u001b[38;5;124mdtype\u001b[39m\u001b[38;5;124m\"\u001b[39m, \u001b[38;5;28;01mNone\u001b[39;00m) \u001b[38;5;241m==\u001b[39m \u001b[38;5;28mbool\u001b[39m:\n",
      "File \u001b[0;32m~/miniforge3/envs/emit/lib/python3.10/site-packages/pandas/core/indexes/base.py:6200\u001b[0m, in \u001b[0;36mIndex._get_indexer_strict\u001b[0;34m(self, key, axis_name)\u001b[0m\n\u001b[1;32m   6197\u001b[0m \u001b[38;5;28;01melse\u001b[39;00m:\n\u001b[1;32m   6198\u001b[0m     keyarr, indexer, new_indexer \u001b[38;5;241m=\u001b[39m \u001b[38;5;28mself\u001b[39m\u001b[38;5;241m.\u001b[39m_reindex_non_unique(keyarr)\n\u001b[0;32m-> 6200\u001b[0m \u001b[38;5;28;43mself\u001b[39;49m\u001b[38;5;241;43m.\u001b[39;49m\u001b[43m_raise_if_missing\u001b[49m\u001b[43m(\u001b[49m\u001b[43mkeyarr\u001b[49m\u001b[43m,\u001b[49m\u001b[43m \u001b[49m\u001b[43mindexer\u001b[49m\u001b[43m,\u001b[49m\u001b[43m \u001b[49m\u001b[43maxis_name\u001b[49m\u001b[43m)\u001b[49m\n\u001b[1;32m   6202\u001b[0m keyarr \u001b[38;5;241m=\u001b[39m \u001b[38;5;28mself\u001b[39m\u001b[38;5;241m.\u001b[39mtake(indexer)\n\u001b[1;32m   6203\u001b[0m \u001b[38;5;28;01mif\u001b[39;00m \u001b[38;5;28misinstance\u001b[39m(key, Index):\n\u001b[1;32m   6204\u001b[0m     \u001b[38;5;66;03m# GH 42790 - Preserve name from an Index\u001b[39;00m\n",
      "File \u001b[0;32m~/miniforge3/envs/emit/lib/python3.10/site-packages/pandas/core/indexes/base.py:6249\u001b[0m, in \u001b[0;36mIndex._raise_if_missing\u001b[0;34m(self, key, indexer, axis_name)\u001b[0m\n\u001b[1;32m   6247\u001b[0m \u001b[38;5;28;01mif\u001b[39;00m nmissing:\n\u001b[1;32m   6248\u001b[0m     \u001b[38;5;28;01mif\u001b[39;00m nmissing \u001b[38;5;241m==\u001b[39m \u001b[38;5;28mlen\u001b[39m(indexer):\n\u001b[0;32m-> 6249\u001b[0m         \u001b[38;5;28;01mraise\u001b[39;00m \u001b[38;5;167;01mKeyError\u001b[39;00m(\u001b[38;5;124mf\u001b[39m\u001b[38;5;124m\"\u001b[39m\u001b[38;5;124mNone of [\u001b[39m\u001b[38;5;132;01m{\u001b[39;00mkey\u001b[38;5;132;01m}\u001b[39;00m\u001b[38;5;124m] are in the [\u001b[39m\u001b[38;5;132;01m{\u001b[39;00maxis_name\u001b[38;5;132;01m}\u001b[39;00m\u001b[38;5;124m]\u001b[39m\u001b[38;5;124m\"\u001b[39m)\n\u001b[1;32m   6251\u001b[0m     not_found \u001b[38;5;241m=\u001b[39m \u001b[38;5;28mlist\u001b[39m(ensure_index(key)[missing_mask\u001b[38;5;241m.\u001b[39mnonzero()[\u001b[38;5;241m0\u001b[39m]]\u001b[38;5;241m.\u001b[39munique())\n\u001b[1;32m   6252\u001b[0m     \u001b[38;5;28;01mraise\u001b[39;00m \u001b[38;5;167;01mKeyError\u001b[39;00m(\u001b[38;5;124mf\u001b[39m\u001b[38;5;124m\"\u001b[39m\u001b[38;5;132;01m{\u001b[39;00mnot_found\u001b[38;5;132;01m}\u001b[39;00m\u001b[38;5;124m not in index\u001b[39m\u001b[38;5;124m\"\u001b[39m)\n",
      "\u001b[0;31mKeyError\u001b[0m: \"None of [Index(['blue_standard', 'green_standard', 'red_standard', 'nir_standard'], dtype='object')] are in the [columns]\""
     ]
    }
   ],
   "source": [
    "#X = turbid_water[['turbidity_standard', 'result_standard', 'temp_standard', 'blue_standard', 'green_standard', 'red_standard', 'nir_standard']]\n",
    "X = clear_water[['blue_standard', 'green_standard','red_standard', 'nir_standard']]\n",
    "y = clear_water['result_standard']\n",
    "X = sm.add_constant(X)\n",
    "model = sm.OLS(y, X).fit()\n",
    "print(model.summary())\n",
    "print(len(clear_water))"
   ]
  },
  {
   "cell_type": "code",
   "execution_count": 2,
   "id": "f7c5791c-5113-47d8-b4ae-8a17dcae2602",
   "metadata": {},
   "outputs": [
    {
     "data": {
      "text/plain": [
       "\"\\n# Define your dataframes\\nclear_water = clear_water.copy()  # Ensure no SettingWithCopyWarnings\\nturbid_water = turbid_water.copy()\\n\\n# Create a scatter plot for each band vs. chlorophyll-a concentration\\nfig, axes = plt.subplots(2, 2, figsize=(12, 10))\\nsns.regplot(x='blue_standard', y='result_standard', data=turbid_water, ax=axes[0, 0], color='blue')\\naxes[0, 0].set_title('Blue Band vs Chla RFU')\\naxes[0, 0].legend()\\n\\nsns.regplot(x='green_standard', y='result_standard', data=turbid_water, ax=axes[0, 1], color='green')\\naxes[0, 1].set_title('Green Band vs Chla RFU')\\n\\nsns.regplot(x='red_standard', y='result_standard', data=turbid_water, ax=axes[1, 0], color='red')\\naxes[1, 0].set_title('Red Band vs Chla RFU')\\n\\nsns.regplot(x='nir_standard', y='result_standard', data=turbid_water, ax=axes[1, 1], color='purple')\\naxes[1, 1].set_title('NIR Band vs Chla RFU')\\n\\nplt.tight_layout()\\nplt.show()\\n\""
      ]
     },
     "execution_count": 2,
     "metadata": {},
     "output_type": "execute_result"
    }
   ],
   "source": [
    "import seaborn as sns\n",
    "import matplotlib.pyplot as plt\n",
    "'''\n",
    "# Define your dataframes\n",
    "clear_water = clear_water.copy()  # Ensure no SettingWithCopyWarnings\n",
    "turbid_water = turbid_water.copy()\n",
    "\n",
    "# Create a scatter plot for each band vs. chlorophyll-a concentration\n",
    "fig, axes = plt.subplots(2, 2, figsize=(12, 10))\n",
    "sns.regplot(x='blue_standard', y='result_standard', data=turbid_water, ax=axes[0, 0], color='blue')\n",
    "axes[0, 0].set_title('Blue Band vs Chla RFU')\n",
    "axes[0, 0].legend()\n",
    "\n",
    "sns.regplot(x='green_standard', y='result_standard', data=turbid_water, ax=axes[0, 1], color='green')\n",
    "axes[0, 1].set_title('Green Band vs Chla RFU')\n",
    "\n",
    "sns.regplot(x='red_standard', y='result_standard', data=turbid_water, ax=axes[1, 0], color='red')\n",
    "axes[1, 0].set_title('Red Band vs Chla RFU')\n",
    "\n",
    "sns.regplot(x='nir_standard', y='result_standard', data=turbid_water, ax=axes[1, 1], color='purple')\n",
    "axes[1, 1].set_title('NIR Band vs Chla RFU')\n",
    "\n",
    "plt.tight_layout()\n",
    "plt.show()\n",
    "'''"
   ]
  },
  {
   "cell_type": "code",
   "execution_count": 1,
   "id": "4e3ee2a4-11cc-42eb-afd4-c739a8d9f719",
   "metadata": {},
   "outputs": [
    {
     "data": {
      "text/plain": [
       "\"\\n# Select the features for clustering (standardized reflectance and chlorophyll-a)\\nfeatures_for_clustering = turbid_water[['blue_standard', 'green_standard', 'red_standard', 'nir_standard', 'result_standard']]\\n\\n# Define the number of clusters (you can adjust this based on your data exploration)\\nkmeans = KMeans(n_clusters=3, random_state=42)  # Start with 3 clusters\\nturbid_water['cluster'] = kmeans.fit_predict(features_for_clustering)\\n\\n# Create a scatter plot for each band with clusters\\nfig, axes = plt.subplots(2, 2, figsize=(12, 10))\\n\\n# Blue Band\\nsns.scatterplot(x='blue_standard', y='result_standard', hue='cluster', data=turbid_water, palette='Set1', ax=axes[0, 0])\\naxes[0, 0].set_title('Blue Band vs Chla RFU')\\n\\n# Green Band\\nsns.scatterplot(x='green_standard', y='result_standard', hue='cluster', data=turbid_water, palette='Set1', ax=axes[0, 1])\\naxes[0, 1].set_title('Green Band vs Chla RFU')\\n\\n# Red Band\\nsns.scatterplot(x='red_standard', y='result_standard', hue='cluster', data=turbid_water, palette='Set1', ax=axes[1, 0])\\naxes[1, 0].set_title('Red Band vs Chla RFU')\\n\\n# NIR Band\\nsns.scatterplot(x='nir_standard', y='result_standard', hue='cluster', data=turbid_water, palette='Set1', ax=axes[1, 1])\\naxes[1, 1].set_title('NIR Band vs Chla RFU')\\n\\nplt.tight_layout()\\nplt.show()\\n\""
      ]
     },
     "execution_count": 1,
     "metadata": {},
     "output_type": "execute_result"
    }
   ],
   "source": [
    "\n",
    "'''\n",
    "# Select the features for clustering (standardized reflectance and chlorophyll-a)\n",
    "features_for_clustering = turbid_water[['blue_standard', 'green_standard', 'red_standard', 'nir_standard', 'result_standard']]\n",
    "\n",
    "# Define the number of clusters (you can adjust this based on your data exploration)\n",
    "kmeans = KMeans(n_clusters=3, random_state=42)  # Start with 3 clusters\n",
    "turbid_water['cluster'] = kmeans.fit_predict(features_for_clustering)\n",
    "\n",
    "# Create a scatter plot for each band with clusters\n",
    "fig, axes = plt.subplots(2, 2, figsize=(12, 10))\n",
    "\n",
    "# Blue Band\n",
    "sns.scatterplot(x='blue_standard', y='result_standard', hue='cluster', data=turbid_water, palette='Set1', ax=axes[0, 0])\n",
    "axes[0, 0].set_title('Blue Band vs Chla RFU')\n",
    "\n",
    "# Green Band\n",
    "sns.scatterplot(x='green_standard', y='result_standard', hue='cluster', data=turbid_water, palette='Set1', ax=axes[0, 1])\n",
    "axes[0, 1].set_title('Green Band vs Chla RFU')\n",
    "\n",
    "# Red Band\n",
    "sns.scatterplot(x='red_standard', y='result_standard', hue='cluster', data=turbid_water, palette='Set1', ax=axes[1, 0])\n",
    "axes[1, 0].set_title('Red Band vs Chla RFU')\n",
    "\n",
    "# NIR Band\n",
    "sns.scatterplot(x='nir_standard', y='result_standard', hue='cluster', data=turbid_water, palette='Set1', ax=axes[1, 1])\n",
    "axes[1, 1].set_title('NIR Band vs Chla RFU')\n",
    "\n",
    "plt.tight_layout()\n",
    "plt.show()\n",
    "'''"
   ]
  },
  {
   "cell_type": "code",
   "execution_count": null,
   "id": "09e76ae8-dbba-48c2-9a34-5e7b6b2f940a",
   "metadata": {},
   "outputs": [],
   "source": []
  },
  {
   "cell_type": "code",
   "execution_count": null,
   "id": "5487609a-aa13-405c-9aad-ab264ab0e01b",
   "metadata": {},
   "outputs": [],
   "source": []
  }
 ],
 "metadata": {
  "kernelspec": {
   "display_name": "Python 3 (ipykernel)",
   "language": "python",
   "name": "python3"
  },
  "language_info": {
   "codemirror_mode": {
    "name": "ipython",
    "version": 3
   },
   "file_extension": ".py",
   "mimetype": "text/x-python",
   "name": "python",
   "nbconvert_exporter": "python",
   "pygments_lexer": "ipython3",
   "version": "3.10.14"
  }
 },
 "nbformat": 4,
 "nbformat_minor": 5
}
